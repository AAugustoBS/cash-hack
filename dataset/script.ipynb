{
 "cells": [
  {
   "cell_type": "code",
   "execution_count": 1,
   "id": "a986c275",
   "metadata": {},
   "outputs": [
    {
     "name": "stdout",
     "output_type": "stream",
     "text": [
      "Collecting pyarrow\n",
      "  Downloading pyarrow-17.0.0-cp39-cp39-win_amd64.whl (25.1 MB)\n",
      "     ---------------------------------------- 25.1/25.1 MB 6.2 MB/s eta 0:00:00\n",
      "Requirement already satisfied: numpy>=1.16.6 in c:\\users\\antonio augusto\\anaconda3\\lib\\site-packages (from pyarrow) (1.26.4)\n",
      "Installing collected packages: pyarrow\n",
      "Successfully installed pyarrow-17.0.0\n",
      "Collecting gdown\n",
      "  Downloading gdown-5.2.0-py3-none-any.whl (18 kB)\n",
      "Requirement already satisfied: tqdm in c:\\users\\antonio augusto\\anaconda3\\lib\\site-packages (from gdown) (4.66.2)\n",
      "Requirement already satisfied: filelock in c:\\users\\antonio augusto\\anaconda3\\lib\\site-packages (from gdown) (3.6.0)\n",
      "Requirement already satisfied: requests[socks] in c:\\users\\antonio augusto\\anaconda3\\lib\\site-packages (from gdown) (2.28.1)\n",
      "Requirement already satisfied: beautifulsoup4 in c:\\users\\antonio augusto\\anaconda3\\lib\\site-packages (from gdown) (4.11.1)\n",
      "Requirement already satisfied: soupsieve>1.2 in c:\\users\\antonio augusto\\anaconda3\\lib\\site-packages (from beautifulsoup4->gdown) (2.3.1)\n",
      "Requirement already satisfied: idna<4,>=2.5 in c:\\users\\antonio augusto\\anaconda3\\lib\\site-packages (from requests[socks]->gdown) (3.3)\n",
      "Requirement already satisfied: urllib3<1.27,>=1.21.1 in c:\\users\\antonio augusto\\anaconda3\\lib\\site-packages (from requests[socks]->gdown) (1.26.11)\n",
      "Requirement already satisfied: charset-normalizer<3,>=2 in c:\\users\\antonio augusto\\anaconda3\\lib\\site-packages (from requests[socks]->gdown) (2.0.4)\n",
      "Requirement already satisfied: certifi>=2017.4.17 in c:\\users\\antonio augusto\\anaconda3\\lib\\site-packages (from requests[socks]->gdown) (2022.9.14)\n",
      "Requirement already satisfied: PySocks!=1.5.7,>=1.5.6 in c:\\users\\antonio augusto\\anaconda3\\lib\\site-packages (from requests[socks]->gdown) (1.7.1)\n",
      "Requirement already satisfied: colorama in c:\\users\\antonio augusto\\anaconda3\\lib\\site-packages (from tqdm->gdown) (0.4.5)\n",
      "Installing collected packages: gdown\n",
      "Successfully installed gdown-5.2.0\n"
     ]
    }
   ],
   "source": [
    "# install and load necessary Libraries\n",
    "!pip install pyarrow\n",
    "!pip install gdown\n",
    "\n",
    "import gdown\n",
    "import pandas as pd"
   ]
  },
  {
   "cell_type": "code",
   "execution_count": 2,
   "id": "f8cfc5c2",
   "metadata": {},
   "outputs": [],
   "source": [
    "data = {\n",
    "    'bank': \"1dzL_SWBkBs5xrUxuGQTm04oe3USgkL9u\",    # banking data\n",
    "    'sales': \"1QK-VgSU3AxXUw330KjYFUj8S9hzKJsG6\",   # sales data\n",
    "    'mcc': \"1JN0bR84sgZ_o4wjKPBUmz45NeEEkVgt7\",     # mcc description\n",
    "}"
   ]
  },
  {
   "cell_type": "code",
   "execution_count": 3,
   "id": "79224f5b",
   "metadata": {},
   "outputs": [
    {
     "name": "stderr",
     "output_type": "stream",
     "text": [
      "Downloading...\n",
      "From: https://drive.google.com/uc?id=1dzL_SWBkBs5xrUxuGQTm04oe3USgkL9u\n",
      "To: C:\\Users\\Antonio Augusto\\Documents\\hackaton\\BrasaHackaton\\dataset\\bank.parquet\n",
      "100%|█████████████████████████████████████████████████████████████████████████████| 1.57M/1.57M [00:00<00:00, 6.32MB/s]\n",
      "Downloading...\n",
      "From: https://drive.google.com/uc?id=1QK-VgSU3AxXUw330KjYFUj8S9hzKJsG6\n",
      "To: C:\\Users\\Antonio Augusto\\Documents\\hackaton\\BrasaHackaton\\dataset\\sales.parquet\n",
      "100%|█████████████████████████████████████████████████████████████████████████████| 6.37M/6.37M [00:01<00:00, 4.72MB/s]\n",
      "Downloading...\n",
      "From: https://drive.google.com/uc?id=1JN0bR84sgZ_o4wjKPBUmz45NeEEkVgt7\n",
      "To: C:\\Users\\Antonio Augusto\\Documents\\hackaton\\BrasaHackaton\\dataset\\mcc.parquet\n",
      "100%|█████████████████████████████████████████████████████████████████████████████| 57.3k/57.3k [00:00<00:00, 1.18MB/s]\n"
     ]
    }
   ],
   "source": [
    "# Download all files from Google Drive\n",
    "for name, file_id in data.items():\n",
    "    gdown.download(f'https://drive.google.com/uc?id={file_id}', name + '.parquet', quiet=False)"
   ]
  },
  {
   "cell_type": "code",
   "execution_count": 4,
   "id": "0c2a7fd3",
   "metadata": {},
   "outputs": [],
   "source": [
    "df = {}\n",
    "for name in data.keys():\n",
    "    df[name] = pd.read_parquet(name + '.parquet')"
   ]
  },
  {
   "cell_type": "code",
   "execution_count": null,
   "id": "c1e57f9a",
   "metadata": {},
   "outputs": [],
   "source": [
    "print(df)"
   ]
  },
  {
   "cell_type": "code",
   "execution_count": null,
   "id": "55922f21",
   "metadata": {},
   "outputs": [],
   "source": []
  },
  {
   "cell_type": "code",
   "execution_count": null,
   "id": "5d6231b2",
   "metadata": {},
   "outputs": [],
   "source": []
  }
 ],
 "metadata": {
  "kernelspec": {
   "display_name": "Python 3 (ipykernel)",
   "language": "python",
   "name": "python3"
  },
  "language_info": {
   "codemirror_mode": {
    "name": "ipython",
    "version": 3
   },
   "file_extension": ".py",
   "mimetype": "text/x-python",
   "name": "python",
   "nbconvert_exporter": "python",
   "pygments_lexer": "ipython3",
   "version": "3.9.13"
  }
 },
 "nbformat": 4,
 "nbformat_minor": 5
}
